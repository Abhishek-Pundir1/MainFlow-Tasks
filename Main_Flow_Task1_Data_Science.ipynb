{
 "cells": [
  {
   "cell_type": "markdown",
   "id": "4f12edf2-677f-43fa-a79a-0d3206e44578",
   "metadata": {},
   "source": [
    "Main Flow Task-1 for Data Science With Python-\n",
    "This task involves understanding the basic data type in Python such as lists, dictionaries and sets."
   ]
  },
  {
   "cell_type": "markdown",
   "id": "e15f88de-ad17-4f6e-8287-18a07efbc4bc",
   "metadata": {},
   "source": [
    "Lists"
   ]
  },
  {
   "cell_type": "code",
   "execution_count": 1,
   "id": "b3e69712-f0d7-4cb1-bb59-576006e2ab9f",
   "metadata": {},
   "outputs": [
    {
     "name": "stdout",
     "output_type": "stream",
     "text": [
      "initial list: [1, 2, 3, 4, 5, 6]\n",
      "List after adding an element: [1, 2, 3, 4, 5, 6, 7]\n",
      "List after removing an eleement: [1, 2, 3, 5, 6, 7]\n",
      "List after modifying an element: [1, 2, 15, 5, 6, 7]\n"
     ]
    }
   ],
   "source": [
    "# Create a list\n",
    "my_list = [1, 2, 3, 4, 5, 6]\n",
    "print(\"initial list:\", my_list)\n",
    "# Adding an element to the list\n",
    "my_list.append(7)\n",
    "print(\"List after adding an element:\", my_list)\n",
    "# Remove an element from the list\n",
    "my_list.remove(4)\n",
    "print(\"List after removing an eleement:\", my_list)\n",
    "# Modify an element in the list\n",
    "my_list[2] = 15\n",
    "print(\"List after modifying an element:\", my_list)\n",
    "\n"
   ]
  },
  {
   "cell_type": "markdown",
   "id": "d9ede3f1-3468-4e8c-ba14-9727269d34ed",
   "metadata": {},
   "source": [
    "Dictionaries"
   ]
  },
  {
   "cell_type": "code",
   "execution_count": 2,
   "id": "1bb6a5fb-4652-44b7-a591-284256a5b7bf",
   "metadata": {},
   "outputs": [
    {
     "name": "stdout",
     "output_type": "stream",
     "text": [
      "initial Dictionary: {'Name': 'Abhi', 'Age': 22, 'City': 'Saharanpur'}\n",
      "Dictionary after adding an element: {'Name': 'Abhi', 'Age': 22, 'City': 'Saharanpur', 'Gender': 'Male'}\n",
      "Dictionary after removing an eleement: {'Name': 'Abhi', 'Age': 22, 'Gender': 'Male'}\n",
      "Dictionary after modifying an element: {'Name': 'Abhishek', 'Age': 22, 'Gender': 'Male'}\n"
     ]
    }
   ],
   "source": [
    "# Create a Dictionary\n",
    "my_dict = {\"Name\": 'Abhi', \"Age\": 22, \"City\": 'Saharanpur'}\n",
    "print(\"initial Dictionary:\", my_dict)\n",
    "# Adding an element to the Dictionary\n",
    "my_dict[\"Gender\"] = 'Male'\n",
    "print(\"Dictionary after adding an element:\", my_dict)\n",
    "# Remove an element from the Dictionary\n",
    "del my_dict[\"City\"]\n",
    "print(\"Dictionary after removing an eleement:\", my_dict)\n",
    "# Modify an element in the Dictionary\n",
    "my_dict[\"Name\"] = 'Abhishek'\n",
    "print(\"Dictionary after modifying an element:\", my_dict)\n",
    "\n"
   ]
  },
  {
   "cell_type": "markdown",
   "id": "f8780c48-8d44-436e-9faf-aaf9a7707953",
   "metadata": {},
   "source": [
    "Sets"
   ]
  },
  {
   "cell_type": "code",
   "execution_count": 3,
   "id": "61522268-7ba0-43fb-963f-e40a099ff2b6",
   "metadata": {},
   "outputs": [
    {
     "name": "stdout",
     "output_type": "stream",
     "text": [
      "initial Set: {1, 2, 3, 4, 5, 6, 7, 8}\n",
      "Set after adding an element: {1, 2, 3, 4, 5, 6, 7, 8, 9}\n",
      "Set after removing an eleement: {1, 2, 3, 4, 5, 7, 8, 9}\n",
      "Set after modifying an element: {1, 2, 4, 5, 7, 8, 9, 10}\n"
     ]
    }
   ],
   "source": [
    "# Create a Set\n",
    "my_set = {1, 2, 3, 4, 5, 6, 7, 8}\n",
    "print(\"initial Set:\", my_set)\n",
    "# Adding an element to the Set\n",
    "my_set.add(9)\n",
    "print(\"Set after adding an element:\", my_set)\n",
    "# Remove an element from the Set\n",
    "my_set.remove(6)\n",
    "print(\"Set after removing an eleement:\", my_set)\n",
    "# Modify an element in the Set\n",
    "old_element = 3\n",
    "new_element = 10\n",
    "# Check if the old element is in the Set\n",
    "if old_element in my_set:\n",
    "    my_set.remove(old_element)   # Remove the old element\n",
    "    my_set.add(new_element)      # Add the new element\n",
    "print(\"Set after modifying an element:\", my_set)\n",
    "\n"
   ]
  }
 ],
 "metadata": {
  "kernelspec": {
   "display_name": "Python 3 (ipykernel)",
   "language": "python",
   "name": "python3"
  },
  "language_info": {
   "codemirror_mode": {
    "name": "ipython",
    "version": 3
   },
   "file_extension": ".py",
   "mimetype": "text/x-python",
   "name": "python",
   "nbconvert_exporter": "python",
   "pygments_lexer": "ipython3",
   "version": "3.12.6"
  }
 },
 "nbformat": 4,
 "nbformat_minor": 5
}
